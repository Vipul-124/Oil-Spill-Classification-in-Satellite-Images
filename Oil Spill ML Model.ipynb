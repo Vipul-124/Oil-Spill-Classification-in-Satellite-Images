{
 "cells": [
  {
   "cell_type": "markdown",
   "id": "6ebfbd29",
   "metadata": {},
   "source": [
    "## About Dataset\n",
    "\n",
    "The dataset was developed by starting with satellite images of the ocean, some of which contain an oil spill and some that do not. Images were split into sections and processed using computer vision algorithms to provide a vector of features to describe the contents of the image section or patch.<br><br>\n",
    "\n",
    "The task is, given a vector that describes the contents of a patch of a satellite image, then predicts whether the patch contains an oil spill or not, e.g. from the illegal or accidental dumping of oil in the ocean.\n",
    "There are two classes and the goal is to distinguish between spill and non-spill using the features for a given ocean patch.\n",
    "<br><br>\n",
    "Now , we will apply different Classification algorithms to classify whether the oil is spilled or not."
   ]
  },
  {
   "cell_type": "markdown",
   "id": "889b6269",
   "metadata": {},
   "source": [
    "## Importing the Libraries"
   ]
  },
  {
   "cell_type": "code",
   "execution_count": 1,
   "id": "a09d8154",
   "metadata": {},
   "outputs": [],
   "source": [
    "import numpy as ny                # for mathematical computation\n",
    "import pandas as pd               # for data cleaning and preprocessing\n",
    "import matplotlib.pyplot as plt   # for visualization\n",
    "import seaborn as sns             # for visualization\n",
    "\n",
    "import warnings\n",
    "warnings.filterwarnings('ignore')"
   ]
  },
  {
   "cell_type": "markdown",
   "id": "5436db77",
   "metadata": {},
   "source": [
    "## Let's read the Dataset"
   ]
  },
  {
   "cell_type": "code",
   "execution_count": 2,
   "id": "a1e5c542",
   "metadata": {
    "scrolled": true
   },
   "outputs": [
    {
     "data": {
      "text/html": [
       "<div>\n",
       "<style scoped>\n",
       "    .dataframe tbody tr th:only-of-type {\n",
       "        vertical-align: middle;\n",
       "    }\n",
       "\n",
       "    .dataframe tbody tr th {\n",
       "        vertical-align: top;\n",
       "    }\n",
       "\n",
       "    .dataframe thead th {\n",
       "        text-align: right;\n",
       "    }\n",
       "</style>\n",
       "<table border=\"1\" class=\"dataframe\">\n",
       "  <thead>\n",
       "    <tr style=\"text-align: right;\">\n",
       "      <th></th>\n",
       "      <th>f_1</th>\n",
       "      <th>f_2</th>\n",
       "      <th>f_3</th>\n",
       "      <th>f_4</th>\n",
       "      <th>f_5</th>\n",
       "      <th>f_6</th>\n",
       "      <th>f_7</th>\n",
       "      <th>f_8</th>\n",
       "      <th>f_9</th>\n",
       "      <th>f_10</th>\n",
       "      <th>...</th>\n",
       "      <th>f_41</th>\n",
       "      <th>f_42</th>\n",
       "      <th>f_43</th>\n",
       "      <th>f_44</th>\n",
       "      <th>f_45</th>\n",
       "      <th>f_46</th>\n",
       "      <th>f_47</th>\n",
       "      <th>f_48</th>\n",
       "      <th>f_49</th>\n",
       "      <th>target</th>\n",
       "    </tr>\n",
       "  </thead>\n",
       "  <tbody>\n",
       "    <tr>\n",
       "      <th>0</th>\n",
       "      <td>1</td>\n",
       "      <td>2558</td>\n",
       "      <td>1506.09</td>\n",
       "      <td>456.63</td>\n",
       "      <td>90</td>\n",
       "      <td>6395000</td>\n",
       "      <td>40.88</td>\n",
       "      <td>7.89</td>\n",
       "      <td>29780.0</td>\n",
       "      <td>0.19</td>\n",
       "      <td>...</td>\n",
       "      <td>2850.00</td>\n",
       "      <td>1000.00</td>\n",
       "      <td>763.16</td>\n",
       "      <td>135.46</td>\n",
       "      <td>3.73</td>\n",
       "      <td>0</td>\n",
       "      <td>33243.19</td>\n",
       "      <td>65.74</td>\n",
       "      <td>7.95</td>\n",
       "      <td>1</td>\n",
       "    </tr>\n",
       "    <tr>\n",
       "      <th>1</th>\n",
       "      <td>2</td>\n",
       "      <td>22325</td>\n",
       "      <td>79.11</td>\n",
       "      <td>841.03</td>\n",
       "      <td>180</td>\n",
       "      <td>55812500</td>\n",
       "      <td>51.11</td>\n",
       "      <td>1.21</td>\n",
       "      <td>61900.0</td>\n",
       "      <td>0.02</td>\n",
       "      <td>...</td>\n",
       "      <td>5750.00</td>\n",
       "      <td>11500.00</td>\n",
       "      <td>9593.48</td>\n",
       "      <td>1648.80</td>\n",
       "      <td>0.60</td>\n",
       "      <td>0</td>\n",
       "      <td>51572.04</td>\n",
       "      <td>65.73</td>\n",
       "      <td>6.26</td>\n",
       "      <td>0</td>\n",
       "    </tr>\n",
       "    <tr>\n",
       "      <th>2</th>\n",
       "      <td>3</td>\n",
       "      <td>115</td>\n",
       "      <td>1449.85</td>\n",
       "      <td>608.43</td>\n",
       "      <td>88</td>\n",
       "      <td>287500</td>\n",
       "      <td>40.42</td>\n",
       "      <td>7.34</td>\n",
       "      <td>3340.0</td>\n",
       "      <td>0.18</td>\n",
       "      <td>...</td>\n",
       "      <td>1400.00</td>\n",
       "      <td>250.00</td>\n",
       "      <td>150.00</td>\n",
       "      <td>45.13</td>\n",
       "      <td>9.33</td>\n",
       "      <td>1</td>\n",
       "      <td>31692.84</td>\n",
       "      <td>65.81</td>\n",
       "      <td>7.84</td>\n",
       "      <td>1</td>\n",
       "    </tr>\n",
       "    <tr>\n",
       "      <th>3</th>\n",
       "      <td>4</td>\n",
       "      <td>1201</td>\n",
       "      <td>1562.53</td>\n",
       "      <td>295.65</td>\n",
       "      <td>66</td>\n",
       "      <td>3002500</td>\n",
       "      <td>42.40</td>\n",
       "      <td>7.97</td>\n",
       "      <td>18030.0</td>\n",
       "      <td>0.19</td>\n",
       "      <td>...</td>\n",
       "      <td>6041.52</td>\n",
       "      <td>761.58</td>\n",
       "      <td>453.21</td>\n",
       "      <td>144.97</td>\n",
       "      <td>13.33</td>\n",
       "      <td>1</td>\n",
       "      <td>37696.21</td>\n",
       "      <td>65.67</td>\n",
       "      <td>8.07</td>\n",
       "      <td>1</td>\n",
       "    </tr>\n",
       "    <tr>\n",
       "      <th>4</th>\n",
       "      <td>5</td>\n",
       "      <td>312</td>\n",
       "      <td>950.27</td>\n",
       "      <td>440.86</td>\n",
       "      <td>37</td>\n",
       "      <td>780000</td>\n",
       "      <td>41.43</td>\n",
       "      <td>7.03</td>\n",
       "      <td>3350.0</td>\n",
       "      <td>0.17</td>\n",
       "      <td>...</td>\n",
       "      <td>1320.04</td>\n",
       "      <td>710.63</td>\n",
       "      <td>512.54</td>\n",
       "      <td>109.16</td>\n",
       "      <td>2.58</td>\n",
       "      <td>0</td>\n",
       "      <td>29038.17</td>\n",
       "      <td>65.66</td>\n",
       "      <td>7.35</td>\n",
       "      <td>0</td>\n",
       "    </tr>\n",
       "  </tbody>\n",
       "</table>\n",
       "<p>5 rows × 50 columns</p>\n",
       "</div>"
      ],
      "text/plain": [
       "   f_1    f_2      f_3     f_4  f_5       f_6    f_7   f_8      f_9  f_10  \\\n",
       "0    1   2558  1506.09  456.63   90   6395000  40.88  7.89  29780.0  0.19   \n",
       "1    2  22325    79.11  841.03  180  55812500  51.11  1.21  61900.0  0.02   \n",
       "2    3    115  1449.85  608.43   88    287500  40.42  7.34   3340.0  0.18   \n",
       "3    4   1201  1562.53  295.65   66   3002500  42.40  7.97  18030.0  0.19   \n",
       "4    5    312   950.27  440.86   37    780000  41.43  7.03   3350.0  0.17   \n",
       "\n",
       "   ...     f_41      f_42     f_43     f_44   f_45  f_46      f_47   f_48  \\\n",
       "0  ...  2850.00   1000.00   763.16   135.46   3.73     0  33243.19  65.74   \n",
       "1  ...  5750.00  11500.00  9593.48  1648.80   0.60     0  51572.04  65.73   \n",
       "2  ...  1400.00    250.00   150.00    45.13   9.33     1  31692.84  65.81   \n",
       "3  ...  6041.52    761.58   453.21   144.97  13.33     1  37696.21  65.67   \n",
       "4  ...  1320.04    710.63   512.54   109.16   2.58     0  29038.17  65.66   \n",
       "\n",
       "   f_49  target  \n",
       "0  7.95       1  \n",
       "1  6.26       0  \n",
       "2  7.84       1  \n",
       "3  8.07       1  \n",
       "4  7.35       0  \n",
       "\n",
       "[5 rows x 50 columns]"
      ]
     },
     "execution_count": 2,
     "metadata": {},
     "output_type": "execute_result"
    }
   ],
   "source": [
    "df = pd.read_csv('oil_spill.csv')\n",
    "df.head()"
   ]
  },
  {
   "cell_type": "markdown",
   "id": "1d4b2b57",
   "metadata": {},
   "source": [
    "### Checking the Shape of the DataFrame"
   ]
  },
  {
   "cell_type": "code",
   "execution_count": 3,
   "id": "a51ae722",
   "metadata": {},
   "outputs": [
    {
     "data": {
      "text/plain": [
       "(937, 50)"
      ]
     },
     "execution_count": 3,
     "metadata": {},
     "output_type": "execute_result"
    }
   ],
   "source": [
    "df.shape"
   ]
  },
  {
   "cell_type": "markdown",
   "id": "06fcaa59",
   "metadata": {},
   "source": [
    "### Checking for Data Types"
   ]
  },
  {
   "cell_type": "code",
   "execution_count": 4,
   "id": "cbf85028",
   "metadata": {},
   "outputs": [
    {
     "data": {
      "text/plain": [
       "float64    39\n",
       "int64      11\n",
       "dtype: int64"
      ]
     },
     "execution_count": 4,
     "metadata": {},
     "output_type": "execute_result"
    }
   ],
   "source": [
    "df.dtypes.value_counts()"
   ]
  },
  {
   "cell_type": "markdown",
   "id": "7ba68ff9",
   "metadata": {},
   "source": [
    "### 1) Handling Null Values"
   ]
  },
  {
   "cell_type": "code",
   "execution_count": 5,
   "id": "2d2c5c84",
   "metadata": {},
   "outputs": [
    {
     "data": {
      "text/plain": [
       "Series([], dtype: int64)"
      ]
     },
     "execution_count": 5,
     "metadata": {},
     "output_type": "execute_result"
    }
   ],
   "source": [
    "nv = df.isna().sum()\n",
    "nv[nv>0]"
   ]
  },
  {
   "cell_type": "markdown",
   "id": "81861ded",
   "metadata": {},
   "source": [
    "### 2) Handling Duplicates"
   ]
  },
  {
   "cell_type": "code",
   "execution_count": 6,
   "id": "25402497",
   "metadata": {},
   "outputs": [
    {
     "data": {
      "text/plain": [
       "0"
      ]
     },
     "execution_count": 6,
     "metadata": {},
     "output_type": "execute_result"
    }
   ],
   "source": [
    "df.duplicated().sum()"
   ]
  },
  {
   "cell_type": "markdown",
   "id": "89ae684a",
   "metadata": {},
   "source": [
    "### Inference :-\n",
    "There are no null values and no duplicates to be handeled."
   ]
  },
  {
   "cell_type": "markdown",
   "id": "b2fbd838",
   "metadata": {},
   "source": [
    "## Checking the Target Variable"
   ]
  },
  {
   "cell_type": "code",
   "execution_count": 7,
   "id": "b04696c1",
   "metadata": {},
   "outputs": [
    {
     "data": {
      "text/plain": [
       "0    896\n",
       "1     41\n",
       "Name: target, dtype: int64"
      ]
     },
     "execution_count": 7,
     "metadata": {},
     "output_type": "execute_result"
    }
   ],
   "source": [
    "df['target'].value_counts()"
   ]
  },
  {
   "cell_type": "code",
   "execution_count": 8,
   "id": "b5fb2e46",
   "metadata": {},
   "outputs": [
    {
     "data": {
      "image/png": "[encoded data removed]",
      "text/plain": [
       "<Figure size 432x288 with 1 Axes>"
      ]
     },
     "metadata": {
      "needs_background": "light"
     },
     "output_type": "display_data"
    }
   ],
   "source": [
    "sns.countplot(x=df['target'])\n",
    "plt.show()"
   ]
  },
  {
   "cell_type": "markdown",
   "id": "b717184f",
   "metadata": {},
   "source": [
    "### Inference :-\n",
    "There are very few times that the oil got spilled."
   ]
  },
  {
   "cell_type": "markdown",
   "id": "e33651b3",
   "metadata": {},
   "source": [
    "# ML Model Building"
   ]
  },
  {
   "cell_type": "markdown",
   "id": "2477e346",
   "metadata": {},
   "source": [
    "### Selecting Dependent and Independent Features"
   ]
  },
  {
   "cell_type": "code",
   "execution_count": 9,
   "id": "9d78db70",
   "metadata": {},
   "outputs": [
    {
     "name": "stdout",
     "output_type": "stream",
     "text": [
      "<class 'pandas.core.frame.DataFrame'>\n",
      "<class 'pandas.core.series.Series'>\n",
      "(937, 49)\n",
      "(937,)\n"
     ]
    }
   ],
   "source": [
    "x = df.drop('target', axis=1)\n",
    "y = df['target']\n",
    "\n",
    "print(type(x))\n",
    "print(type(y))\n",
    "print(x.shape)\n",
    "print(y.shape)"
   ]
  },
  {
   "cell_type": "markdown",
   "id": "051fa8ee",
   "metadata": {},
   "source": [
    "### Standardizing the Data"
   ]
  },
  {
   "cell_type": "code",
   "execution_count": 10,
   "id": "6a3909a8",
   "metadata": {},
   "outputs": [],
   "source": [
    "from sklearn.preprocessing import StandardScaler"
   ]
  },
  {
   "cell_type": "code",
   "execution_count": 11,
   "id": "b29971f0",
   "metadata": {},
   "outputs": [
    {
     "name": "stdout",
     "output_type": "stream",
     "text": [
      "(937, 49)\n",
      "<class 'numpy.ndarray'>\n"
     ]
    }
   ],
   "source": [
    "sc = StandardScaler()\n",
    "x_sc = sc.fit_transform(x)\n",
    "\n",
    "print(x_sc.shape)\n",
    "print(type(x_sc))"
   ]
  },
  {
   "cell_type": "markdown",
   "id": "777bf81d",
   "metadata": {},
   "source": [
    "### Splitting the Data into Train and Test Data"
   ]
  },
  {
   "cell_type": "code",
   "execution_count": 12,
   "id": "0e750172",
   "metadata": {},
   "outputs": [],
   "source": [
    "from sklearn.model_selection import train_test_split"
   ]
  },
  {
   "cell_type": "code",
   "execution_count": 13,
   "id": "eff950dd",
   "metadata": {},
   "outputs": [
    {
     "name": "stdout",
     "output_type": "stream",
     "text": [
      "(702, 49)\n",
      "(235, 49)\n",
      "(702,)\n",
      "(235,)\n"
     ]
    }
   ],
   "source": [
    "x_train, x_test, y_train, y_test = train_test_split(x, y, test_size=0.25, random_state=38)\n",
    "\n",
    "print(x_train.shape)\n",
    "print(x_test.shape)\n",
    "print(y_train.shape)\n",
    "print(y_test.shape)"
   ]
  },
  {
   "cell_type": "markdown",
   "id": "5d2e550e",
   "metadata": {},
   "source": [
    "### Creating Functions to Evaluate the confusion Matrix, Classification Report and to Generate Training and Testing Score"
   ]
  },
  {
   "cell_type": "code",
   "execution_count": 14,
   "id": "4480bbca",
   "metadata": {},
   "outputs": [],
   "source": [
    "from sklearn.metrics import confusion_matrix, classification_report, accuracy_score"
   ]
  },
  {
   "cell_type": "code",
   "execution_count": 15,
   "id": "b9feab3f",
   "metadata": {},
   "outputs": [],
   "source": [
    "def eval_model(ytest, ypred) :\n",
    "  cm = confusion_matrix(ytest, ypred)\n",
    "  print(cm)\n",
    "  print('Accuracy Score\\n\\n', accuracy_score(ytest, ypred))\n",
    "  print(classification_report(ytest, ypred))\n",
    "\n",
    "\n",
    "def mscore(model):\n",
    "    print('Training Score',model.score(x_train,y_train))  # Training Accuracy\n",
    "    print('Testing Score',model.score(x_test,y_test))     # Testing Accuracy"
   ]
  },
  {
   "cell_type": "markdown",
   "id": "5049af70",
   "metadata": {},
   "source": [
    "## Importing the ML Libraries"
   ]
  },
  {
   "cell_type": "code",
   "execution_count": 16,
   "id": "1e026536",
   "metadata": {},
   "outputs": [],
   "source": [
    "from sklearn.neighbors import KNeighborsClassifier\n",
    "from sklearn.linear_model import LogisticRegression\n",
    "from sklearn.tree import DecisionTreeClassifier\n",
    "from sklearn.ensemble import RandomForestClassifier\n",
    "from sklearn.ensemble import BaggingClassifier"
   ]
  },
  {
   "cell_type": "markdown",
   "id": "0e47b2a4",
   "metadata": {},
   "source": [
    "### 1) Logistic Reression"
   ]
  },
  {
   "cell_type": "code",
   "execution_count": 17,
   "id": "bc79d082",
   "metadata": {},
   "outputs": [
    {
     "name": "stdout",
     "output_type": "stream",
     "text": [
      "Training Score 0.9743589743589743\n",
      "Testing Score 0.9659574468085106\n"
     ]
    }
   ],
   "source": [
    "lr = LogisticRegression(max_iter = 10000, solver = 'liblinear')\n",
    "lr.fit(x_train, y_train)\n",
    "mscore(lr)"
   ]
  },
  {
   "cell_type": "code",
   "execution_count": 18,
   "id": "21dee093",
   "metadata": {},
   "outputs": [
    {
     "name": "stdout",
     "output_type": "stream",
     "text": [
      "[[219   4]\n",
      " [  4   8]]\n",
      "Accuracy Score\n",
      "\n",
      " 0.9659574468085106\n",
      "              precision    recall  f1-score   support\n",
      "\n",
      "           0       0.98      0.98      0.98       223\n",
      "           1       0.67      0.67      0.67        12\n",
      "\n",
      "    accuracy                           0.97       235\n",
      "   macro avg       0.82      0.82      0.82       235\n",
      "weighted avg       0.97      0.97      0.97       235\n",
      "\n"
     ]
    }
   ],
   "source": [
    "ypred_lr = lr.predict(x_test)\n",
    "eval_model(y_test, ypred_lr)"
   ]
  },
  {
   "cell_type": "markdown",
   "id": "31d6208c",
   "metadata": {},
   "source": [
    "### 2) KNeighbors Classifier"
   ]
  },
  {
   "cell_type": "code",
   "execution_count": 19,
   "id": "910f8e63",
   "metadata": {},
   "outputs": [
    {
     "name": "stdout",
     "output_type": "stream",
     "text": [
      "Accuracy\n",
      " [0.948936170212766, 0.948936170212766, 0.9446808510638298, 0.948936170212766, 0.948936170212766, 0.948936170212766, 0.948936170212766, 0.948936170212766, 0.948936170212766, 0.948936170212766, 0.948936170212766, 0.948936170212766, 0.948936170212766, 0.948936170212766, 0.948936170212766, 0.948936170212766, 0.948936170212766, 0.948936170212766, 0.948936170212766] \n",
      "\n",
      "\n"
     ]
    },
    {
     "data": {
      "image/png": "[encoded data removed]",
      "text/plain": [
       "<Figure size 432x288 with 1 Axes>"
      ]
     },
     "metadata": {
      "needs_background": "light"
     },
     "output_type": "display_data"
    }
   ],
   "source": [
    "def optimal_K() :\n",
    "    k = list(range(3, 40, 2))       # k= 3,5,7,9....,35,37,39\n",
    "    acc = []\n",
    "    for i in range(len(k)) :\n",
    "        knn_model = KNeighborsClassifier(n_neighbors = k[i])\n",
    "        knn_model.fit(x_train, y_train)\n",
    "        acc.append(knn_model.score(x_test, y_test))\n",
    "    print('Accuracy\\n', acc,'\\n\\n')\n",
    "    plt.plot(k, acc, color = 'maroon', marker = '*')\n",
    "    plt.xlabel('Number of Nearest Neighbors')\n",
    "    plt.ylabel('Test Accuracy')\n",
    "    plt.grid()\n",
    "    plt.show()\n",
    "    \n",
    "    \n",
    "optimal_K()"
   ]
  },
  {
   "cell_type": "code",
   "execution_count": 20,
   "id": "b1e577ec",
   "metadata": {},
   "outputs": [
    {
     "name": "stdout",
     "output_type": "stream",
     "text": [
      "Training Score 0.9586894586894587\n",
      "Testing Score 0.948936170212766\n"
     ]
    }
   ],
   "source": [
    "# Optimal value of K = 9\n",
    "\n",
    "knn = KNeighborsClassifier(n_neighbors = 9)\n",
    "knn.fit(x_train, y_train)\n",
    "mscore(knn)"
   ]
  },
  {
   "cell_type": "code",
   "execution_count": 21,
   "id": "ea218048",
   "metadata": {
    "scrolled": true
   },
   "outputs": [
    {
     "name": "stdout",
     "output_type": "stream",
     "text": [
      "[[223   0]\n",
      " [ 12   0]]\n",
      "Accuracy Score\n",
      "\n",
      " 0.948936170212766\n",
      "              precision    recall  f1-score   support\n",
      "\n",
      "           0       0.95      1.00      0.97       223\n",
      "           1       0.00      0.00      0.00        12\n",
      "\n",
      "    accuracy                           0.95       235\n",
      "   macro avg       0.47      0.50      0.49       235\n",
      "weighted avg       0.90      0.95      0.92       235\n",
      "\n"
     ]
    }
   ],
   "source": [
    "ypred_knn = knn.predict(x_test)\n",
    "eval_model(y_test, ypred_knn)"
   ]
  },
  {
   "cell_type": "markdown",
   "id": "3bd5dc29",
   "metadata": {},
   "source": [
    "### 3) DecisoinTree Classifier"
   ]
  },
  {
   "cell_type": "code",
   "execution_count": 22,
   "id": "2b70b1d1",
   "metadata": {},
   "outputs": [
    {
     "name": "stdout",
     "output_type": "stream",
     "text": [
      "Training Score 0.99002849002849\n",
      "Testing Score 0.9617021276595744\n"
     ]
    }
   ],
   "source": [
    "dt = DecisionTreeClassifier(criterion='gini', max_depth=6, min_samples_split = 9)\n",
    "dt.fit(x_train, y_train)\n",
    "mscore(dt)"
   ]
  },
  {
   "cell_type": "code",
   "execution_count": 23,
   "id": "6d6a100a",
   "metadata": {},
   "outputs": [
    {
     "name": "stdout",
     "output_type": "stream",
     "text": [
      "[[221   2]\n",
      " [  7   5]]\n",
      "Accuracy Score\n",
      "\n",
      " 0.9617021276595744\n",
      "              precision    recall  f1-score   support\n",
      "\n",
      "           0       0.97      0.99      0.98       223\n",
      "           1       0.71      0.42      0.53        12\n",
      "\n",
      "    accuracy                           0.96       235\n",
      "   macro avg       0.84      0.70      0.75       235\n",
      "weighted avg       0.96      0.96      0.96       235\n",
      "\n"
     ]
    }
   ],
   "source": [
    "ypred_dt = dt.predict(x_test)\n",
    "eval_model(y_test, ypred_dt)"
   ]
  },
  {
   "cell_type": "markdown",
   "id": "1be9189c",
   "metadata": {},
   "source": [
    "### 4) RandomForest Classifier"
   ]
  },
  {
   "cell_type": "code",
   "execution_count": 24,
   "id": "86518216",
   "metadata": {},
   "outputs": [
    {
     "name": "stdout",
     "output_type": "stream",
     "text": [
      "Training Score 0.9786324786324786\n",
      "Testing Score 0.9531914893617022\n"
     ]
    }
   ],
   "source": [
    "rf = RandomForestClassifier(criterion='gini', max_depth=6, min_samples_split = 9)\n",
    "rf.fit(x_train, y_train)\n",
    "mscore(rf)"
   ]
  },
  {
   "cell_type": "code",
   "execution_count": 25,
   "id": "804657a3",
   "metadata": {},
   "outputs": [
    {
     "name": "stdout",
     "output_type": "stream",
     "text": [
      "[[223   0]\n",
      " [ 11   1]]\n",
      "Accuracy Score\n",
      "\n",
      " 0.9531914893617022\n",
      "              precision    recall  f1-score   support\n",
      "\n",
      "           0       0.95      1.00      0.98       223\n",
      "           1       1.00      0.08      0.15        12\n",
      "\n",
      "    accuracy                           0.95       235\n",
      "   macro avg       0.98      0.54      0.56       235\n",
      "weighted avg       0.96      0.95      0.93       235\n",
      "\n"
     ]
    }
   ],
   "source": [
    "ypred_rf = rf.predict(x_test)\n",
    "eval_model(y_test, ypred_rf)"
   ]
  },
  {
   "cell_type": "markdown",
   "id": "ea7955ea",
   "metadata": {},
   "source": [
    "### 5) Bagging Classifier"
   ]
  },
  {
   "cell_type": "code",
   "execution_count": 26,
   "id": "92007c47",
   "metadata": {},
   "outputs": [
    {
     "name": "stdout",
     "output_type": "stream",
     "text": [
      "Training Score 0.9829059829059829\n",
      "Testing Score 0.9702127659574468\n"
     ]
    }
   ],
   "source": [
    "# Bagging Classifier with Decsion Tree\n",
    "\n",
    "bc_dt = BaggingClassifier(base_estimator=dt, n_estimators=15, max_features=x_train.shape[1], max_samples=x_train.shape[0])\n",
    "bc_dt.fit(x_train, y_train)\n",
    "mscore(bc_dt)"
   ]
  },
  {
   "cell_type": "code",
   "execution_count": 27,
   "id": "c3f2e992",
   "metadata": {},
   "outputs": [
    {
     "name": "stdout",
     "output_type": "stream",
     "text": [
      "[[223   0]\n",
      " [  7   5]]\n",
      "Accuracy Score\n",
      "\n",
      " 0.9702127659574468\n",
      "              precision    recall  f1-score   support\n",
      "\n",
      "           0       0.97      1.00      0.98       223\n",
      "           1       1.00      0.42      0.59        12\n",
      "\n",
      "    accuracy                           0.97       235\n",
      "   macro avg       0.98      0.71      0.79       235\n",
      "weighted avg       0.97      0.97      0.96       235\n",
      "\n"
     ]
    }
   ],
   "source": [
    "ypred_bc_dt = bc_dt.predict(x_test)\n",
    "eval_model(y_test, ypred_bc_dt)"
   ]
  },
  {
   "cell_type": "code",
   "execution_count": 28,
   "id": "96ff0518",
   "metadata": {},
   "outputs": [
    {
     "name": "stdout",
     "output_type": "stream",
     "text": [
      "Training Score 0.9672364672364673\n",
      "Testing Score 0.9531914893617022\n"
     ]
    }
   ],
   "source": [
    "# Bagging Classifier with Random Forest\n",
    "\n",
    "bc_rf = BaggingClassifier(base_estimator=rf, n_estimators=15, max_features=x_train.shape[1], max_samples=x_train.shape[0])\n",
    "bc_rf.fit(x_train, y_train)\n",
    "mscore(bc_rf)"
   ]
  },
  {
   "cell_type": "code",
   "execution_count": 29,
   "id": "2d2e6d0f",
   "metadata": {},
   "outputs": [
    {
     "name": "stdout",
     "output_type": "stream",
     "text": [
      "[[223   0]\n",
      " [ 11   1]]\n",
      "Accuracy Score\n",
      "\n",
      " 0.9531914893617022\n",
      "              precision    recall  f1-score   support\n",
      "\n",
      "           0       0.95      1.00      0.98       223\n",
      "           1       1.00      0.08      0.15        12\n",
      "\n",
      "    accuracy                           0.95       235\n",
      "   macro avg       0.98      0.54      0.56       235\n",
      "weighted avg       0.96      0.95      0.93       235\n",
      "\n"
     ]
    }
   ],
   "source": [
    "ypred_bc_rf = bc_rf.predict(x_test)\n",
    "eval_model(y_test, ypred_bc_rf)"
   ]
  },
  {
   "cell_type": "markdown",
   "id": "52b26c9d",
   "metadata": {},
   "source": [
    "## Comparing Performance of Different Models"
   ]
  },
  {
   "cell_type": "code",
   "execution_count": 30,
   "id": "90c73c02",
   "metadata": {},
   "outputs": [
    {
     "data": {
      "text/html": [
       "<div>\n",
       "<style scoped>\n",
       "    .dataframe tbody tr th:only-of-type {\n",
       "        vertical-align: middle;\n",
       "    }\n",
       "\n",
       "    .dataframe tbody tr th {\n",
       "        vertical-align: top;\n",
       "    }\n",
       "\n",
       "    .dataframe thead th {\n",
       "        text-align: right;\n",
       "    }\n",
       "</style>\n",
       "<table border=\"1\" class=\"dataframe\">\n",
       "  <thead>\n",
       "    <tr style=\"text-align: right;\">\n",
       "      <th></th>\n",
       "      <th>Accuracy</th>\n",
       "    </tr>\n",
       "  </thead>\n",
       "  <tbody>\n",
       "    <tr>\n",
       "      <th>Logistic Regression</th>\n",
       "      <td>0.965957</td>\n",
       "    </tr>\n",
       "    <tr>\n",
       "      <th>KNN Classifier</th>\n",
       "      <td>0.948936</td>\n",
       "    </tr>\n",
       "    <tr>\n",
       "      <th>Decision Tree</th>\n",
       "      <td>0.961702</td>\n",
       "    </tr>\n",
       "    <tr>\n",
       "      <th>Random Forest</th>\n",
       "      <td>0.953191</td>\n",
       "    </tr>\n",
       "    <tr>\n",
       "      <th>Bagging with DT</th>\n",
       "      <td>0.970213</td>\n",
       "    </tr>\n",
       "    <tr>\n",
       "      <th>Bagging with RF</th>\n",
       "      <td>0.953191</td>\n",
       "    </tr>\n",
       "  </tbody>\n",
       "</table>\n",
       "</div>"
      ],
      "text/plain": [
       "                     Accuracy\n",
       "Logistic Regression  0.965957\n",
       "KNN Classifier       0.948936\n",
       "Decision Tree        0.961702\n",
       "Random Forest        0.953191\n",
       "Bagging with DT      0.970213\n",
       "Bagging with RF      0.953191"
      ]
     },
     "execution_count": 30,
     "metadata": {},
     "output_type": "execute_result"
    }
   ],
   "source": [
    "performance = {'Logistic Regression' : accuracy_score(y_test, ypred_lr),\n",
    "               'KNN Classifier' : accuracy_score(y_test, ypred_knn),\n",
    "               'Decision Tree' : accuracy_score(y_test, ypred_dt),\n",
    "               'Random Forest' : accuracy_score(y_test, ypred_rf),\n",
    "              'Bagging with DT' : accuracy_score(y_test, ypred_bc_dt),\n",
    "              'Bagging with RF' : accuracy_score(y_test, ypred_bc_rf),}\n",
    "\n",
    "res = pd.DataFrame(performance, index = ['Accuracy'])\n",
    "res.T"
   ]
  },
  {
   "cell_type": "markdown",
   "id": "cbbbfe39",
   "metadata": {},
   "source": [
    "### Inference :-\n",
    "The best model is the Bagging Classifier where the base estimator is DecisionTree Model with the accuracy score of 97%."
   ]
  },
  {
   "cell_type": "markdown",
   "id": "7b26ebe4",
   "metadata": {},
   "source": [
    "## Saving the Model"
   ]
  },
  {
   "cell_type": "code",
   "execution_count": 31,
   "id": "930db693",
   "metadata": {},
   "outputs": [],
   "source": [
    "import pickle"
   ]
  },
  {
   "cell_type": "code",
   "execution_count": 32,
   "id": "9ea06896",
   "metadata": {},
   "outputs": [],
   "source": [
    "pickle.dump(bc_dt, open('bc_dt.pkl', 'wb'))"
   ]
  },
  {
   "cell_type": "markdown",
   "id": "feb17178",
   "metadata": {},
   "source": [
    "## Load the Model"
   ]
  },
  {
   "cell_type": "code",
   "execution_count": 33,
   "id": "d45a4d42",
   "metadata": {},
   "outputs": [],
   "source": [
    "best = pickle.load(open('bc_dt.pkl', 'rb'))"
   ]
  },
  {
   "cell_type": "markdown",
   "id": "72597e3a",
   "metadata": {},
   "source": [
    "### Making a new random dataset"
   ]
  },
  {
   "cell_type": "code",
   "execution_count": 42,
   "id": "de3ab4ef",
   "metadata": {
    "scrolled": true
   },
   "outputs": [
    {
     "name": "stdout",
     "output_type": "stream",
     "text": [
      "(20, 50)\n"
     ]
    },
    {
     "data": {
      "text/html": [
       "<div>\n",
       "<style scoped>\n",
       "    .dataframe tbody tr th:only-of-type {\n",
       "        vertical-align: middle;\n",
       "    }\n",
       "\n",
       "    .dataframe tbody tr th {\n",
       "        vertical-align: top;\n",
       "    }\n",
       "\n",
       "    .dataframe thead th {\n",
       "        text-align: right;\n",
       "    }\n",
       "</style>\n",
       "<table border=\"1\" class=\"dataframe\">\n",
       "  <thead>\n",
       "    <tr style=\"text-align: right;\">\n",
       "      <th></th>\n",
       "      <th>f_1</th>\n",
       "      <th>f_2</th>\n",
       "      <th>f_3</th>\n",
       "      <th>f_4</th>\n",
       "      <th>f_5</th>\n",
       "      <th>f_6</th>\n",
       "      <th>f_7</th>\n",
       "      <th>f_8</th>\n",
       "      <th>f_9</th>\n",
       "      <th>f_10</th>\n",
       "      <th>...</th>\n",
       "      <th>f_41</th>\n",
       "      <th>f_42</th>\n",
       "      <th>f_43</th>\n",
       "      <th>f_44</th>\n",
       "      <th>f_45</th>\n",
       "      <th>f_46</th>\n",
       "      <th>f_47</th>\n",
       "      <th>f_48</th>\n",
       "      <th>f_49</th>\n",
       "      <th>target</th>\n",
       "    </tr>\n",
       "  </thead>\n",
       "  <tbody>\n",
       "    <tr>\n",
       "      <th>742</th>\n",
       "      <td>10</td>\n",
       "      <td>27</td>\n",
       "      <td>12.48</td>\n",
       "      <td>531.37</td>\n",
       "      <td>62</td>\n",
       "      <td>218700</td>\n",
       "      <td>49.33</td>\n",
       "      <td>7.01</td>\n",
       "      <td>2419.0</td>\n",
       "      <td>0.14</td>\n",
       "      <td>...</td>\n",
       "      <td>1127.70</td>\n",
       "      <td>127.28</td>\n",
       "      <td>92.57</td>\n",
       "      <td>59.45</td>\n",
       "      <td>12.18</td>\n",
       "      <td>1</td>\n",
       "      <td>3620.58</td>\n",
       "      <td>66.04</td>\n",
       "      <td>5.97</td>\n",
       "      <td>0</td>\n",
       "    </tr>\n",
       "    <tr>\n",
       "      <th>730</th>\n",
       "      <td>83</td>\n",
       "      <td>11</td>\n",
       "      <td>44.82</td>\n",
       "      <td>576.64</td>\n",
       "      <td>60</td>\n",
       "      <td>89100</td>\n",
       "      <td>74.18</td>\n",
       "      <td>13.04</td>\n",
       "      <td>868.0</td>\n",
       "      <td>0.18</td>\n",
       "      <td>...</td>\n",
       "      <td>324.50</td>\n",
       "      <td>254.56</td>\n",
       "      <td>127.28</td>\n",
       "      <td>127.28</td>\n",
       "      <td>2.55</td>\n",
       "      <td>0</td>\n",
       "      <td>3308.85</td>\n",
       "      <td>66.11</td>\n",
       "      <td>6.02</td>\n",
       "      <td>0</td>\n",
       "    </tr>\n",
       "    <tr>\n",
       "      <th>5</th>\n",
       "      <td>6</td>\n",
       "      <td>54</td>\n",
       "      <td>1438.13</td>\n",
       "      <td>544.91</td>\n",
       "      <td>82</td>\n",
       "      <td>135000</td>\n",
       "      <td>44.67</td>\n",
       "      <td>6.92</td>\n",
       "      <td>1570.0</td>\n",
       "      <td>0.15</td>\n",
       "      <td>...</td>\n",
       "      <td>608.28</td>\n",
       "      <td>200.00</td>\n",
       "      <td>150.00</td>\n",
       "      <td>52.22</td>\n",
       "      <td>4.06</td>\n",
       "      <td>0</td>\n",
       "      <td>30967.25</td>\n",
       "      <td>65.77</td>\n",
       "      <td>7.85</td>\n",
       "      <td>1</td>\n",
       "    </tr>\n",
       "    <tr>\n",
       "      <th>138</th>\n",
       "      <td>128</td>\n",
       "      <td>136</td>\n",
       "      <td>1607.52</td>\n",
       "      <td>1626.35</td>\n",
       "      <td>17</td>\n",
       "      <td>340000</td>\n",
       "      <td>35.07</td>\n",
       "      <td>8.56</td>\n",
       "      <td>3510.0</td>\n",
       "      <td>0.24</td>\n",
       "      <td>...</td>\n",
       "      <td>1044.03</td>\n",
       "      <td>538.52</td>\n",
       "      <td>290.91</td>\n",
       "      <td>134.73</td>\n",
       "      <td>3.59</td>\n",
       "      <td>0</td>\n",
       "      <td>4011.67</td>\n",
       "      <td>66.35</td>\n",
       "      <td>7.75</td>\n",
       "      <td>0</td>\n",
       "    </tr>\n",
       "    <tr>\n",
       "      <th>602</th>\n",
       "      <td>34</td>\n",
       "      <td>18</td>\n",
       "      <td>16.00</td>\n",
       "      <td>384.28</td>\n",
       "      <td>125</td>\n",
       "      <td>145800</td>\n",
       "      <td>53.22</td>\n",
       "      <td>9.37</td>\n",
       "      <td>1535.0</td>\n",
       "      <td>0.18</td>\n",
       "      <td>...</td>\n",
       "      <td>649.00</td>\n",
       "      <td>127.28</td>\n",
       "      <td>106.07</td>\n",
       "      <td>51.96</td>\n",
       "      <td>6.12</td>\n",
       "      <td>1</td>\n",
       "      <td>8654.28</td>\n",
       "      <td>65.85</td>\n",
       "      <td>6.13</td>\n",
       "      <td>0</td>\n",
       "    </tr>\n",
       "  </tbody>\n",
       "</table>\n",
       "<p>5 rows × 50 columns</p>\n",
       "</div>"
      ],
      "text/plain": [
       "     f_1  f_2      f_3      f_4  f_5     f_6    f_7    f_8     f_9  f_10  ...  \\\n",
       "742   10   27    12.48   531.37   62  218700  49.33   7.01  2419.0  0.14  ...   \n",
       "730   83   11    44.82   576.64   60   89100  74.18  13.04   868.0  0.18  ...   \n",
       "5      6   54  1438.13   544.91   82  135000  44.67   6.92  1570.0  0.15  ...   \n",
       "138  128  136  1607.52  1626.35   17  340000  35.07   8.56  3510.0  0.24  ...   \n",
       "602   34   18    16.00   384.28  125  145800  53.22   9.37  1535.0  0.18  ...   \n",
       "\n",
       "        f_41    f_42    f_43    f_44   f_45  f_46      f_47   f_48  f_49  \\\n",
       "742  1127.70  127.28   92.57   59.45  12.18     1   3620.58  66.04  5.97   \n",
       "730   324.50  254.56  127.28  127.28   2.55     0   3308.85  66.11  6.02   \n",
       "5     608.28  200.00  150.00   52.22   4.06     0  30967.25  65.77  7.85   \n",
       "138  1044.03  538.52  290.91  134.73   3.59     0   4011.67  66.35  7.75   \n",
       "602   649.00  127.28  106.07   51.96   6.12     1   8654.28  65.85  6.13   \n",
       "\n",
       "     target  \n",
       "742       0  \n",
       "730       0  \n",
       "5         1  \n",
       "138       0  \n",
       "602       0  \n",
       "\n",
       "[5 rows x 50 columns]"
      ]
     },
     "execution_count": 42,
     "metadata": {},
     "output_type": "execute_result"
    }
   ],
   "source": [
    "new_df = df.sample(20)\n",
    "print(new_df.shape)\n",
    "new_df.head()"
   ]
  },
  {
   "cell_type": "code",
   "execution_count": 43,
   "id": "5a4405e1",
   "metadata": {},
   "outputs": [
    {
     "name": "stdout",
     "output_type": "stream",
     "text": [
      "(20, 49)\n"
     ]
    },
    {
     "data": {
      "text/plain": [
       "array([0, 0, 1, 0, 0, 0, 0, 0, 0, 0, 0, 0, 0, 0, 0, 0, 0, 0, 0, 0],\n",
       "      dtype=int64)"
      ]
     },
     "execution_count": 43,
     "metadata": {},
     "output_type": "execute_result"
    }
   ],
   "source": [
    "# Selecting the Dependent Featurtes and Generating the Predictions\n",
    "\n",
    "new_x = new_df.drop('target', axis=1)\n",
    "print(new_x.shape)\n",
    "\n",
    "best_pred = best.predict(new_x)\n",
    "best_pred"
   ]
  },
  {
   "cell_type": "code",
   "execution_count": 44,
   "id": "67e49327",
   "metadata": {},
   "outputs": [
    {
     "data": {
      "text/html": [
       "<div>\n",
       "<style scoped>\n",
       "    .dataframe tbody tr th:only-of-type {\n",
       "        vertical-align: middle;\n",
       "    }\n",
       "\n",
       "    .dataframe tbody tr th {\n",
       "        vertical-align: top;\n",
       "    }\n",
       "\n",
       "    .dataframe thead th {\n",
       "        text-align: right;\n",
       "    }\n",
       "</style>\n",
       "<table border=\"1\" class=\"dataframe\">\n",
       "  <thead>\n",
       "    <tr style=\"text-align: right;\">\n",
       "      <th></th>\n",
       "      <th>Serial No.</th>\n",
       "      <th>Target</th>\n",
       "    </tr>\n",
       "  </thead>\n",
       "  <tbody>\n",
       "    <tr>\n",
       "      <th>0</th>\n",
       "      <td>742</td>\n",
       "      <td>0</td>\n",
       "    </tr>\n",
       "    <tr>\n",
       "      <th>1</th>\n",
       "      <td>730</td>\n",
       "      <td>0</td>\n",
       "    </tr>\n",
       "    <tr>\n",
       "      <th>2</th>\n",
       "      <td>5</td>\n",
       "      <td>1</td>\n",
       "    </tr>\n",
       "    <tr>\n",
       "      <th>3</th>\n",
       "      <td>138</td>\n",
       "      <td>0</td>\n",
       "    </tr>\n",
       "    <tr>\n",
       "      <th>4</th>\n",
       "      <td>602</td>\n",
       "      <td>0</td>\n",
       "    </tr>\n",
       "    <tr>\n",
       "      <th>5</th>\n",
       "      <td>20</td>\n",
       "      <td>0</td>\n",
       "    </tr>\n",
       "    <tr>\n",
       "      <th>6</th>\n",
       "      <td>238</td>\n",
       "      <td>0</td>\n",
       "    </tr>\n",
       "    <tr>\n",
       "      <th>7</th>\n",
       "      <td>457</td>\n",
       "      <td>0</td>\n",
       "    </tr>\n",
       "    <tr>\n",
       "      <th>8</th>\n",
       "      <td>135</td>\n",
       "      <td>0</td>\n",
       "    </tr>\n",
       "    <tr>\n",
       "      <th>9</th>\n",
       "      <td>774</td>\n",
       "      <td>0</td>\n",
       "    </tr>\n",
       "    <tr>\n",
       "      <th>10</th>\n",
       "      <td>847</td>\n",
       "      <td>0</td>\n",
       "    </tr>\n",
       "    <tr>\n",
       "      <th>11</th>\n",
       "      <td>378</td>\n",
       "      <td>0</td>\n",
       "    </tr>\n",
       "    <tr>\n",
       "      <th>12</th>\n",
       "      <td>99</td>\n",
       "      <td>0</td>\n",
       "    </tr>\n",
       "    <tr>\n",
       "      <th>13</th>\n",
       "      <td>556</td>\n",
       "      <td>0</td>\n",
       "    </tr>\n",
       "    <tr>\n",
       "      <th>14</th>\n",
       "      <td>861</td>\n",
       "      <td>0</td>\n",
       "    </tr>\n",
       "    <tr>\n",
       "      <th>15</th>\n",
       "      <td>504</td>\n",
       "      <td>0</td>\n",
       "    </tr>\n",
       "    <tr>\n",
       "      <th>16</th>\n",
       "      <td>24</td>\n",
       "      <td>0</td>\n",
       "    </tr>\n",
       "    <tr>\n",
       "      <th>17</th>\n",
       "      <td>553</td>\n",
       "      <td>0</td>\n",
       "    </tr>\n",
       "    <tr>\n",
       "      <th>18</th>\n",
       "      <td>181</td>\n",
       "      <td>0</td>\n",
       "    </tr>\n",
       "    <tr>\n",
       "      <th>19</th>\n",
       "      <td>473</td>\n",
       "      <td>0</td>\n",
       "    </tr>\n",
       "  </tbody>\n",
       "</table>\n",
       "</div>"
      ],
      "text/plain": [
       "    Serial No.  Target\n",
       "0          742       0\n",
       "1          730       0\n",
       "2            5       1\n",
       "3          138       0\n",
       "4          602       0\n",
       "5           20       0\n",
       "6          238       0\n",
       "7          457       0\n",
       "8          135       0\n",
       "9          774       0\n",
       "10         847       0\n",
       "11         378       0\n",
       "12          99       0\n",
       "13         556       0\n",
       "14         861       0\n",
       "15         504       0\n",
       "16          24       0\n",
       "17         553       0\n",
       "18         181       0\n",
       "19         473       0"
      ]
     },
     "execution_count": 44,
     "metadata": {},
     "output_type": "execute_result"
    }
   ],
   "source": [
    "res = pd.DataFrame({'Serial No.' : new_df.index,\n",
    "             'Target' : best_pred})\n",
    "res"
   ]
  },
  {
   "cell_type": "code",
   "execution_count": null,
   "id": "48a7e749",
   "metadata": {},
   "outputs": [],
   "source": []
  }
 ],
 "metadata": {
  "kernelspec": {
   "display_name": "Python 3 (ipykernel)",
   "language": "python",
   "name": "python3"
  },
  "language_info": {
   "codemirror_mode": {
    "name": "ipython",
    "version": 3
   },
   "file_extension": ".py",
   "mimetype": "text/x-python",
   "name": "python",
   "nbconvert_exporter": "python",
   "pygments_lexer": "ipython3",
   "version": "3.9.12"
  }
 },
 "nbformat": 4,
 "nbformat_minor": 5
}
